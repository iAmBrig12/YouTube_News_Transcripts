{
 "cells": [
  {
   "cell_type": "code",
   "execution_count": 6,
   "metadata": {},
   "outputs": [],
   "source": [
    "import pandas as pd\n",
    "import matplotlib.pyplot as plt \n",
    "import seaborn as sns "
   ]
  },
  {
   "cell_type": "code",
   "execution_count": 7,
   "metadata": {},
   "outputs": [
    {
     "data": {
      "text/html": [
       "<div>\n",
       "<style scoped>\n",
       "    .dataframe tbody tr th:only-of-type {\n",
       "        vertical-align: middle;\n",
       "    }\n",
       "\n",
       "    .dataframe tbody tr th {\n",
       "        vertical-align: top;\n",
       "    }\n",
       "\n",
       "    .dataframe thead th {\n",
       "        text-align: right;\n",
       "    }\n",
       "</style>\n",
       "<table border=\"1\" class=\"dataframe\">\n",
       "  <thead>\n",
       "    <tr style=\"text-align: right;\">\n",
       "      <th></th>\n",
       "      <th>video_id</th>\n",
       "      <th>title</th>\n",
       "      <th>source</th>\n",
       "      <th>description</th>\n",
       "      <th>text</th>\n",
       "    </tr>\n",
       "  </thead>\n",
       "  <tbody>\n",
       "    <tr>\n",
       "      <th>0</th>\n",
       "      <td>FxdwKBWJ0pg</td>\n",
       "      <td>Suspected Gilgo Beach serial killer pleads not...</td>\n",
       "      <td>ABC News</td>\n",
       "      <td>Alleged serial killer Rex Heuermann has pleade...</td>\n",
       "      <td>and we're learning new details in the Gilgo Be...</td>\n",
       "    </tr>\n",
       "    <tr>\n",
       "      <th>1</th>\n",
       "      <td>lQhhKFTNuV8</td>\n",
       "      <td>House cancels votes due to weather ahead of de...</td>\n",
       "      <td>ABC News</td>\n",
       "      <td>Congressional leaders agreed to a deal, but th...</td>\n",
       "      <td>and the house is canceling votes tonight due t...</td>\n",
       "    </tr>\n",
       "    <tr>\n",
       "      <th>2</th>\n",
       "      <td>5OINxDnI67g</td>\n",
       "      <td>Trump to stand trial to determine whether he w...</td>\n",
       "      <td>ABC News</td>\n",
       "      <td>Former President Donald Trump is set to stand ...</td>\n",
       "      <td>and former president Trump is making a stop in...</td>\n",
       "    </tr>\n",
       "    <tr>\n",
       "      <th>3</th>\n",
       "      <td>LQiHv5LhoNY</td>\n",
       "      <td>Uber is closing its alcohol delivery app Drizly</td>\n",
       "      <td>ABC News</td>\n",
       "      <td>Uber bought Drizly during the stay-at-home pan...</td>\n",
       "      <td>Uber has announced it's closing its alcohol de...</td>\n",
       "    </tr>\n",
       "    <tr>\n",
       "      <th>4</th>\n",
       "      <td>4zNby1ZsoTc</td>\n",
       "      <td>Best looks of the Emmys red carpet</td>\n",
       "      <td>ABC News</td>\n",
       "      <td>ABC News’ Will Ganss recaps the best looks of ...</td>\n",
       "      <td>will Gans is here with more tea from the Emmys...</td>\n",
       "    </tr>\n",
       "  </tbody>\n",
       "</table>\n",
       "</div>"
      ],
      "text/plain": [
       "      video_id                                              title    source  \\\n",
       "0  FxdwKBWJ0pg  Suspected Gilgo Beach serial killer pleads not...  ABC News   \n",
       "1  lQhhKFTNuV8  House cancels votes due to weather ahead of de...  ABC News   \n",
       "2  5OINxDnI67g  Trump to stand trial to determine whether he w...  ABC News   \n",
       "3  LQiHv5LhoNY    Uber is closing its alcohol delivery app Drizly  ABC News   \n",
       "4  4zNby1ZsoTc                 Best looks of the Emmys red carpet  ABC News   \n",
       "\n",
       "                                         description  \\\n",
       "0  Alleged serial killer Rex Heuermann has pleade...   \n",
       "1  Congressional leaders agreed to a deal, but th...   \n",
       "2  Former President Donald Trump is set to stand ...   \n",
       "3  Uber bought Drizly during the stay-at-home pan...   \n",
       "4  ABC News’ Will Ganss recaps the best looks of ...   \n",
       "\n",
       "                                                text  \n",
       "0  and we're learning new details in the Gilgo Be...  \n",
       "1  and the house is canceling votes tonight due t...  \n",
       "2  and former president Trump is making a stop in...  \n",
       "3  Uber has announced it's closing its alcohol de...  \n",
       "4  will Gans is here with more tea from the Emmys...  "
      ]
     },
     "execution_count": 7,
     "metadata": {},
     "output_type": "execute_result"
    }
   ],
   "source": [
    "df = pd.read_csv('youtube_news_transcripts.csv')\n",
    "df.head()"
   ]
  },
  {
   "cell_type": "code",
   "execution_count": 8,
   "metadata": {},
   "outputs": [
    {
     "data": {
      "text/plain": [
       "(1191, 5)"
      ]
     },
     "execution_count": 8,
     "metadata": {},
     "output_type": "execute_result"
    }
   ],
   "source": [
    "df.shape"
   ]
  },
  {
   "cell_type": "code",
   "execution_count": null,
   "metadata": {},
   "outputs": [],
   "source": []
  }
 ],
 "metadata": {
  "kernelspec": {
   "display_name": "Python 3",
   "language": "python",
   "name": "python3"
  },
  "language_info": {
   "codemirror_mode": {
    "name": "ipython",
    "version": 3
   },
   "file_extension": ".py",
   "mimetype": "text/x-python",
   "name": "python",
   "nbconvert_exporter": "python",
   "pygments_lexer": "ipython3",
   "version": "3.11.7"
  }
 },
 "nbformat": 4,
 "nbformat_minor": 2
}
