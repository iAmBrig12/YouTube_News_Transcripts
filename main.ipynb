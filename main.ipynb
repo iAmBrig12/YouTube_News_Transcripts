{
 "cells": [
  {
   "cell_type": "code",
   "execution_count": 73,
   "metadata": {},
   "outputs": [],
   "source": [
    "from youtube_transcript_api import YouTubeTranscriptApi as ytt\n",
    "import pandas as pd\n",
    "import numpy as np\n",
    "import scrapetube\n",
    "from datetime import datetime, timedelta"
   ]
  },
  {
   "cell_type": "code",
   "execution_count": 74,
   "metadata": {},
   "outputs": [],
   "source": [
    "yt_news_df = pd.DataFrame(columns=['video_id', 'title', 'source', 'description', 'text'])"
   ]
  },
  {
   "cell_type": "code",
   "execution_count": 75,
   "metadata": {},
   "outputs": [],
   "source": [
    "channel_ids = {\n",
    "    'ABC News': 'UCBi2mrWuNuyYy4gbM6fU18Q',\n",
    "    'CNN': 'UC8p1vwvWtl6T73JiExfWs1g',\n",
    "    'BBC News': 'UC16niRr50-MSBwiO3YDb3RA',\n",
    "    'Fox News': 'UCXIJgqnII2ZOINSWNOGFThA'\n",
    "}"
   ]
  },
  {
   "cell_type": "code",
   "execution_count": 76,
   "metadata": {},
   "outputs": [],
   "source": [
    "def text_from_transcript(transcript):\n",
    "    txt = ''\n",
    "    for entry in transcript:\n",
    "        txt += entry['text'] + ' '\n",
    "    return txt"
   ]
  },
  {
   "cell_type": "code",
   "execution_count": 77,
   "metadata": {},
   "outputs": [
    {
     "name": "stdout",
     "output_type": "stream",
     "text": [
      "Scraping ABC News\n"
     ]
    }
   ],
   "source": [
    "for channel_name, channel_id in channel_ids.items():\n",
    "    print(f'Scraping {channel_name}')\n",
    "\n",
    "    videos = scrapetube.get_channel(channel_id, sort_by='newest')\n",
    "\n",
    "    for vid in videos:\n",
    "        vids_scraped = 0\n",
    "        failures = 0\n",
    "\n",
    "        vid_id = vid['videoId']\n",
    "\n",
    "        try:\n",
    "            vid_transcript = ytt.get_transcript(vid_id)\n",
    "        except:\n",
    "            failures += 1\n",
    "            continue\n",
    "\n",
    "        vid_text = text_from_transcript(vid_transcript)\n",
    "        vid_title = vid['title']['runs'][0]['text']\n",
    "        vid_description = vid['descriptionSnippet']['runs'][0]['text']\n",
    "\n",
    "        vid_dict = {\n",
    "            'video_id': vid_id,\n",
    "            'title': vid_title,\n",
    "            'text': vid_text,\n",
    "            'source': channel_name,\n",
    "            'description': vid_description\n",
    "        }\n",
    "\n",
    "        yt_news_df = pd.concat([yt_news_df, pd.DataFrame([vid_dict])], ignore_index=True)\n",
    "\n",
    "        vids_scraped += 1\n",
    "\n",
    "    print(f'Videos Scraped: {vids_scraped}\\nScrapes Failed: {failures}\\n')"
   ]
  },
  {
   "cell_type": "code",
   "execution_count": null,
   "metadata": {},
   "outputs": [
    {
     "data": {
      "text/html": [
       "<div>\n",
       "<style scoped>\n",
       "    .dataframe tbody tr th:only-of-type {\n",
       "        vertical-align: middle;\n",
       "    }\n",
       "\n",
       "    .dataframe tbody tr th {\n",
       "        vertical-align: top;\n",
       "    }\n",
       "\n",
       "    .dataframe thead th {\n",
       "        text-align: right;\n",
       "    }\n",
       "</style>\n",
       "<table border=\"1\" class=\"dataframe\">\n",
       "  <thead>\n",
       "    <tr style=\"text-align: right;\">\n",
       "      <th></th>\n",
       "      <th>video_id</th>\n",
       "      <th>title</th>\n",
       "      <th>date</th>\n",
       "      <th>source</th>\n",
       "      <th>description</th>\n",
       "      <th>text</th>\n",
       "    </tr>\n",
       "  </thead>\n",
       "  <tbody>\n",
       "    <tr>\n",
       "      <th>0</th>\n",
       "      <td>fMXirbkZoI0</td>\n",
       "      <td>What to watch for during Monday's Iowa caucuses</td>\n",
       "      <td>2024-01-15 17:18:34.650394</td>\n",
       "      <td>ABC News</td>\n",
       "      <td>ABC News’ Rick Klein breaking down the most im...</td>\n",
       "      <td>if you're sick as a dog you say darling I got ...</td>\n",
       "    </tr>\n",
       "    <tr>\n",
       "      <th>1</th>\n",
       "      <td>prp-XvTiFq4</td>\n",
       "      <td>\"Miracle on the Hudson\" survivor on 15 years s...</td>\n",
       "      <td>2024-01-15 16:56:36.902178</td>\n",
       "      <td>CNN</td>\n",
       "      <td>Fifteen years ago, U.S. Airways pilot Chesley ...</td>\n",
       "      <td>HAVE TO WAIT UNTIL SUNDAY  BEFORE WE MAKE IT...</td>\n",
       "    </tr>\n",
       "    <tr>\n",
       "      <th>2</th>\n",
       "      <td>7WuIh9opEgU</td>\n",
       "      <td>Iceland volcano: Lava flows destroy homes foll...</td>\n",
       "      <td>2024-01-15 14:56:39.685860</td>\n",
       "      <td>BBC News</td>\n",
       "      <td>Lava flows have destroyed several homes follow...</td>\n",
       "      <td>now lava from a volcano in Southwestern Icelan...</td>\n",
       "    </tr>\n",
       "    <tr>\n",
       "      <th>3</th>\n",
       "      <td>FXssogMaR34</td>\n",
       "      <td>Former Obama aides raise concerns over Biden's...</td>\n",
       "      <td>2024-01-15 17:45:42.767939</td>\n",
       "      <td>Fox News</td>\n",
       "      <td>Fox News’ Mark Meredith reports on tensions wi...</td>\n",
       "      <td>&gt;&gt; John: AS REPUBLICANS BATTLE  IT OUT IN IOWA...</td>\n",
       "    </tr>\n",
       "  </tbody>\n",
       "</table>\n",
       "</div>"
      ],
      "text/plain": [
       "      video_id                                              title  \\\n",
       "0  fMXirbkZoI0    What to watch for during Monday's Iowa caucuses   \n",
       "1  prp-XvTiFq4  \"Miracle on the Hudson\" survivor on 15 years s...   \n",
       "2  7WuIh9opEgU  Iceland volcano: Lava flows destroy homes foll...   \n",
       "3  FXssogMaR34  Former Obama aides raise concerns over Biden's...   \n",
       "\n",
       "                        date    source  \\\n",
       "0 2024-01-15 17:18:34.650394  ABC News   \n",
       "1 2024-01-15 16:56:36.902178       CNN   \n",
       "2 2024-01-15 14:56:39.685860  BBC News   \n",
       "3 2024-01-15 17:45:42.767939  Fox News   \n",
       "\n",
       "                                         description  \\\n",
       "0  ABC News’ Rick Klein breaking down the most im...   \n",
       "1  Fifteen years ago, U.S. Airways pilot Chesley ...   \n",
       "2  Lava flows have destroyed several homes follow...   \n",
       "3  Fox News’ Mark Meredith reports on tensions wi...   \n",
       "\n",
       "                                                text  \n",
       "0  if you're sick as a dog you say darling I got ...  \n",
       "1    HAVE TO WAIT UNTIL SUNDAY  BEFORE WE MAKE IT...  \n",
       "2  now lava from a volcano in Southwestern Icelan...  \n",
       "3  >> John: AS REPUBLICANS BATTLE  IT OUT IN IOWA...  "
      ]
     },
     "execution_count": 66,
     "metadata": {},
     "output_type": "execute_result"
    }
   ],
   "source": [
    "yt_news_df"
   ]
  },
  {
   "cell_type": "code",
   "execution_count": null,
   "metadata": {},
   "outputs": [],
   "source": []
  }
 ],
 "metadata": {
  "kernelspec": {
   "display_name": "Python 3",
   "language": "python",
   "name": "python3"
  },
  "language_info": {
   "codemirror_mode": {
    "name": "ipython",
    "version": 3
   },
   "file_extension": ".py",
   "mimetype": "text/x-python",
   "name": "python",
   "nbconvert_exporter": "python",
   "pygments_lexer": "ipython3",
   "version": "3.11.7"
  }
 },
 "nbformat": 4,
 "nbformat_minor": 2
}
